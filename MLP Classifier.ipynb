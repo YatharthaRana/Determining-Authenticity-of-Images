{
 "cells": [
  {
   "cell_type": "code",
   "execution_count": 49,
   "id": "ae33095b",
   "metadata": {},
   "outputs": [],
   "source": [
    "import os"
   ]
  },
  {
   "cell_type": "code",
   "execution_count": 7,
   "id": "190754cc",
   "metadata": {},
   "outputs": [],
   "source": [
    "def get_file_paths(base_folder):\n",
    "    real_images = []\n",
    "    fake_images = []\n",
    "\n",
    "    for category in os.listdir(base_folder):\n",
    "        category_folder = os.path.join(base_folder, category)\n",
    "        if os.path.isdir(category_folder):\n",
    "            for image_file in os.listdir(category_folder):\n",
    "                image_path = os.path.join(category_folder, image_file)\n",
    "                if category.lower() == 'real':\n",
    "                    real_images.append(image_path)\n",
    "                elif category.lower() == 'fake':\n",
    "                    fake_images.append(image_path)\n",
    "\n",
    "    return real_images, fake_images"
   ]
  },
  {
   "cell_type": "code",
   "execution_count": 9,
   "id": "9d7ae0a2",
   "metadata": {},
   "outputs": [],
   "source": [
    "main_folder = 'C:/Users/acer/cifake'"
   ]
  },
  {
   "cell_type": "code",
   "execution_count": 10,
   "id": "75bf2320",
   "metadata": {},
   "outputs": [],
   "source": [
    "train_real, train_fake = get_file_paths(os.path.join(main_folder, 'train'))\n",
    "test_real, test_fake = get_file_paths(os.path.join(main_folder, 'test'))"
   ]
  },
  {
   "cell_type": "code",
   "execution_count": 13,
   "id": "18f77a19",
   "metadata": {},
   "outputs": [
    {
     "data": {
      "text/plain": [
       "50000"
      ]
     },
     "execution_count": 13,
     "metadata": {},
     "output_type": "execute_result"
    }
   ],
   "source": [
    "len(train_fake)"
   ]
  },
  {
   "cell_type": "code",
   "execution_count": 16,
   "id": "d375aad9",
   "metadata": {},
   "outputs": [
    {
     "data": {
      "text/plain": [
       "10000"
      ]
     },
     "execution_count": 16,
     "metadata": {},
     "output_type": "execute_result"
    }
   ],
   "source": [
    "len(test_fake)"
   ]
  },
  {
   "cell_type": "code",
   "execution_count": 17,
   "id": "7d55a845",
   "metadata": {},
   "outputs": [
    {
     "data": {
      "text/plain": [
       "'C:/Users/acer/cifake\\\\test\\\\FAKE\\\\0 (10).jpg'"
      ]
     },
     "execution_count": 17,
     "metadata": {},
     "output_type": "execute_result"
    }
   ],
   "source": [
    "test_fake[0]"
   ]
  },
  {
   "cell_type": "code",
   "execution_count": 22,
   "id": "34141055",
   "metadata": {},
   "outputs": [],
   "source": [
    "from skimage import io"
   ]
  },
  {
   "cell_type": "code",
   "execution_count": 35,
   "id": "696b8f8f",
   "metadata": {},
   "outputs": [],
   "source": [
    "import cv2 as cv"
   ]
  },
  {
   "cell_type": "code",
   "execution_count": 25,
   "id": "6b346e15",
   "metadata": {},
   "outputs": [],
   "source": [
    "img1 = io.imread(test_fake[0])"
   ]
  },
  {
   "cell_type": "code",
   "execution_count": 28,
   "id": "ce901eaf",
   "metadata": {},
   "outputs": [],
   "source": [
    "import matplotlib.pyplot as plt"
   ]
  },
  {
   "cell_type": "code",
   "execution_count": null,
   "id": "cb95ede8",
   "metadata": {},
   "outputs": [],
   "source": []
  },
  {
   "cell_type": "code",
   "execution_count": 30,
   "id": "cba866a5",
   "metadata": {},
   "outputs": [
    {
     "data": {
      "text/plain": [
       "(32, 32, 3)"
      ]
     },
     "execution_count": 30,
     "metadata": {},
     "output_type": "execute_result"
    }
   ],
   "source": [
    "img1.shape"
   ]
  },
  {
   "cell_type": "code",
   "execution_count": 32,
   "id": "851037ca",
   "metadata": {},
   "outputs": [],
   "source": [
    "def path_to_dataset(path_list):\n",
    "    img_list=[]\n",
    "    for image in path_list:\n",
    "        img=io.imread(image)\n",
    "        img_list.append(img)\n",
    "    return img_list"
   ]
  },
  {
   "cell_type": "code",
   "execution_count": 33,
   "id": "868c8324",
   "metadata": {
    "collapsed": true
   },
   "outputs": [
    {
     "data": {
      "text/plain": [
       "array([[[ 53,  59,  55],\n",
       "        [ 75,  82,  75],\n",
       "        [188, 195, 188],\n",
       "        ...,\n",
       "        [151, 127, 127],\n",
       "        [165, 139, 140],\n",
       "        [148, 122, 123]],\n",
       "\n",
       "       [[ 50,  54,  53],\n",
       "        [ 60,  64,  63],\n",
       "        [181, 185, 184],\n",
       "        ...,\n",
       "        [137, 117, 110],\n",
       "        [146, 123, 115],\n",
       "        [170, 147, 139]],\n",
       "\n",
       "       [[ 28,  32,  35],\n",
       "        [ 64,  68,  71],\n",
       "        [171, 175, 178],\n",
       "        ...,\n",
       "        [129, 112,  92],\n",
       "        [125, 108,  88],\n",
       "        [168, 150, 130]],\n",
       "\n",
       "       ...,\n",
       "\n",
       "       [[ 94, 121, 116],\n",
       "        [ 96, 121, 117],\n",
       "        [100, 120, 118],\n",
       "        ...,\n",
       "        [112, 107, 114],\n",
       "        [114, 107, 115],\n",
       "        [113, 106, 114]],\n",
       "\n",
       "       [[102, 105, 110],\n",
       "        [107, 108, 113],\n",
       "        [112, 109, 116],\n",
       "        ...,\n",
       "        [109, 108, 114],\n",
       "        [111, 108, 115],\n",
       "        [112, 109, 116]],\n",
       "\n",
       "       [[110,  92, 106],\n",
       "        [116,  95, 110],\n",
       "        [122,  99, 115],\n",
       "        ...,\n",
       "        [103, 104, 109],\n",
       "        [103, 102, 110],\n",
       "        [105, 104, 112]]], dtype=uint8)"
      ]
     },
     "execution_count": 33,
     "metadata": {},
     "output_type": "execute_result"
    }
   ],
   "source": [
    "real_train = path_to_dataset(train_real)\n",
    "real_train[101]"
   ]
  },
  {
   "cell_type": "code",
   "execution_count": 48,
   "id": "af26e3ee",
   "metadata": {},
   "outputs": [],
   "source": [
    "fake_train = path_to_dataset(train_fake)\n",
    "fake_test = path_to_dataset(test_fake)\n",
    "real_test= path_to_dataset(test_real)"
   ]
  },
  {
   "cell_type": "code",
   "execution_count": 50,
   "id": "400f55ee",
   "metadata": {},
   "outputs": [],
   "source": [
    "import pickle"
   ]
  },
  {
   "cell_type": "code",
   "execution_count": 51,
   "id": "6c01a756",
   "metadata": {},
   "outputs": [],
   "source": [
    "real_train_file = 'real_train.pkl'\n",
    "real_test_file = 'real_test.pkl'\n",
    "fake_train_file = 'fake_train.pkl'\n",
    "fake_test_file = 'fake_test.pkl'\n",
    "\n",
    "with open(real_train_file, 'wb') as f:\n",
    "    pickle.dump(real_train, f)\n",
    "\n",
    "with open(real_test_file, 'wb') as f:\n",
    "    pickle.dump(real_test, f)\n",
    "\n",
    "with open(fake_train_file, 'wb') as f:\n",
    "    pickle.dump(fake_train, f)\n",
    "\n",
    "with open(fake_test_file, 'wb') as f:\n",
    "    pickle.dump(fake_test, f)"
   ]
  },
  {
   "cell_type": "code",
   "execution_count": 6,
   "id": "3a6193dc",
   "metadata": {},
   "outputs": [],
   "source": [
    "import numpy as np\n",
    "import matplotlib.pyplot as plt"
   ]
  },
  {
   "cell_type": "code",
   "execution_count": 7,
   "id": "8b96de0f",
   "metadata": {},
   "outputs": [
    {
     "data": {
      "text/plain": [
       "<matplotlib.image.AxesImage at 0x14756d44790>"
      ]
     },
     "execution_count": 7,
     "metadata": {},
     "output_type": "execute_result"
    },
    {
     "data": {
      "image/png": "[encoded data removed]",
      "text/plain": [
       "<Figure size 640x480 with 1 Axes>"
      ]
     },
     "metadata": {},
     "output_type": "display_data"
    }
   ],
   "source": [
    "plt.imshow(real_test[0])"
   ]
  },
  {
   "cell_type": "code",
   "execution_count": 1,
   "id": "9e7ab0ff",
   "metadata": {},
   "outputs": [],
   "source": [
    "import pickle"
   ]
  },
  {
   "cell_type": "code",
   "execution_count": 2,
   "id": "106ebb2d",
   "metadata": {},
   "outputs": [],
   "source": [
    "real_train_file = 'real_train.pkl'\n",
    "real_test_file = 'real_test.pkl'\n",
    "fake_train_file = 'fake_train.pkl'\n",
    "fake_test_file = 'fake_test.pkl'\n",
    "\n",
    "# Load the lists using pickle.load\n",
    "with open(real_train_file, 'rb') as f:\n",
    "    real_train = pickle.load(f)\n",
    "\n",
    "with open(real_test_file, 'rb') as f:\n",
    "    real_test = pickle.load(f)\n",
    "\n",
    "with open(fake_train_file, 'rb') as f:\n",
    "    fake_train = pickle.load(f)\n",
    "\n",
    "with open(fake_test_file, 'rb') as f:\n",
    "    fake_test = pickle.load(f)"
   ]
  },
  {
   "cell_type": "code",
   "execution_count": 3,
   "id": "9eeba315",
   "metadata": {},
   "outputs": [],
   "source": [
    "def create_dataset(img_list, label):\n",
    "    images = []\n",
    "    labels = []\n",
    "    for img in img_list:\n",
    "        img_array = np.array(img).flatten()\n",
    "        images.append(img_array)\n",
    "        labels.append(label)\n",
    "    return np.array(images), np.array(labels)"
   ]
  },
  {
   "cell_type": "code",
   "execution_count": 4,
   "id": "00981eba",
   "metadata": {},
   "outputs": [],
   "source": [
    "import numpy as np\n",
    "import matplotlib.pyplot as plt"
   ]
  },
  {
   "cell_type": "code",
   "execution_count": 6,
   "id": "b5bb4c80",
   "metadata": {},
   "outputs": [],
   "source": [
    "train_array_real,label_1 = create_dataset(real_train,1)\n",
    "train_array_fake,label_2 = create_dataset(fake_train,0)\n",
    "test_array_real,label_3 = create_dataset(real_test,1)\n",
    "test_array_fake,label_4 = create_dataset(fake_test,0)"
   ]
  },
  {
   "cell_type": "code",
   "execution_count": 7,
   "id": "7a27ffe9",
   "metadata": {},
   "outputs": [],
   "source": [
    "train_all = np.concatenate((train_array_real, train_array_fake), axis=0)\n",
    "train_label = np.concatenate((label_1, label_2), axis=0)\n",
    "test_all = np.concatenate((test_array_real, test_array_fake), axis=0)\n",
    "test_label = np.concatenate((label_3, label_4), axis=0)"
   ]
  },
  {
   "cell_type": "code",
   "execution_count": 8,
   "id": "1b987fe9",
   "metadata": {},
   "outputs": [
    {
     "data": {
      "text/plain": [
       "array([1, 1, 1, ..., 0, 0, 0])"
      ]
     },
     "execution_count": 8,
     "metadata": {},
     "output_type": "execute_result"
    }
   ],
   "source": [
    "test_label"
   ]
  },
  {
   "cell_type": "code",
   "execution_count": 9,
   "id": "58178e67",
   "metadata": {},
   "outputs": [
    {
     "data": {
      "text/plain": [
       "array([[169, 169, 181, ..., 132, 128, 119],\n",
       "       [168, 180, 192, ...,  72,  77,  81],\n",
       "       [150, 195, 100, ..., 125, 161,  53],\n",
       "       ...,\n",
       "       [ 84,  82,  83, ..., 152, 152, 152],\n",
       "       [ 37,  45,   0, ...,   0,  52,  84],\n",
       "       [164, 162, 163, ..., 128, 126, 127]], dtype=uint8)"
      ]
     },
     "execution_count": 9,
     "metadata": {},
     "output_type": "execute_result"
    }
   ],
   "source": [
    "train_all"
   ]
  },
  {
   "cell_type": "code",
   "execution_count": 10,
   "id": "800f7fd7",
   "metadata": {},
   "outputs": [
    {
     "data": {
      "text/plain": [
       "array([[240, 250, 242, ..., 203, 182, 155],\n",
       "       [197,  24,   0, ...,  31,  30,  26],\n",
       "       [ 77,  98,  41, ..., 165, 116, 111],\n",
       "       ...,\n",
       "       [ 56,  24,  29, ...,   2,  10,  13],\n",
       "       [217, 217, 217, ...,  53,  51,  52],\n",
       "       [100, 151, 206, ...,  90,  84,  84]], dtype=uint8)"
      ]
     },
     "execution_count": 10,
     "metadata": {},
     "output_type": "execute_result"
    }
   ],
   "source": [
    "test_all"
   ]
  },
  {
   "cell_type": "code",
   "execution_count": 12,
   "id": "ae1ac177",
   "metadata": {},
   "outputs": [
    {
     "data": {
      "text/plain": [
       "array([1, 1, 1, ..., 0, 0, 0])"
      ]
     },
     "execution_count": 12,
     "metadata": {},
     "output_type": "execute_result"
    }
   ],
   "source": [
    "train_label"
   ]
  },
  {
   "cell_type": "code",
   "execution_count": 13,
   "id": "314e0934",
   "metadata": {},
   "outputs": [],
   "source": [
    "from sklearn.preprocessing import StandardScaler"
   ]
  },
  {
   "cell_type": "code",
   "execution_count": null,
   "id": "51bee19e",
   "metadata": {},
   "outputs": [],
   "source": []
  },
  {
   "cell_type": "code",
   "execution_count": 14,
   "id": "8f9210d9",
   "metadata": {},
   "outputs": [],
   "source": [
    "def shuffle_img(img_array,labels):\n",
    "    indices = np.arange(img_array.shape[0])\n",
    "    np.random.shuffle(indices)\n",
    "    shuffled_images = img_array[indices]\n",
    "    shuffled_labels = labels[indices]\n",
    "    return shuffled_images,shuffled_labels"
   ]
  },
  {
   "cell_type": "code",
   "execution_count": 15,
   "id": "45e37fb6",
   "metadata": {},
   "outputs": [],
   "source": [
    "train_images,train_labels = shuffle_img(train_all,train_label)\n",
    "test_images,test_labels = shuffle_img(test_all,test_label)"
   ]
  },
  {
   "cell_type": "code",
   "execution_count": 16,
   "id": "b32d0ffb",
   "metadata": {},
   "outputs": [],
   "source": [
    "sc = StandardScaler()"
   ]
  },
  {
   "cell_type": "code",
   "execution_count": 4,
   "id": "1f2d7c9d",
   "metadata": {},
   "outputs": [
    {
     "ename": "NameError",
     "evalue": "name 'X' is not defined",
     "output_type": "error",
     "traceback": [
      "\u001b[1;31m---------------------------------------------------------------------------\u001b[0m",
      "\u001b[1;31mNameError\u001b[0m                                 Traceback (most recent call last)",
      "Cell \u001b[1;32mIn[4], line 1\u001b[0m\n\u001b[1;32m----> 1\u001b[0m X[\u001b[38;5;241m0\u001b[39m]\n",
      "\u001b[1;31mNameError\u001b[0m: name 'X' is not defined"
     ]
    }
   ],
   "source": [
    "X[0]"
   ]
  },
  {
   "cell_type": "code",
   "execution_count": 17,
   "id": "faa8d1c0",
   "metadata": {},
   "outputs": [],
   "source": [
    "import pandas as pd"
   ]
  },
  {
   "cell_type": "code",
   "execution_count": 22,
   "id": "d4b3e1be",
   "metadata": {},
   "outputs": [],
   "source": [
    "df_train_images = pd.DataFrame(train_images)\n",
    "df_train_labels = pd.DataFrame(train_labels)"
   ]
  },
  {
   "cell_type": "code",
   "execution_count": 25,
   "id": "b17ea214",
   "metadata": {},
   "outputs": [
    {
     "data": {
      "text/html": [
       "<div>\n",
       "<style scoped>\n",
       "    .dataframe tbody tr th:only-of-type {\n",
       "        vertical-align: middle;\n",
       "    }\n",
       "\n",
       "    .dataframe tbody tr th {\n",
       "        vertical-align: top;\n",
       "    }\n",
       "\n",
       "    .dataframe thead th {\n",
       "        text-align: right;\n",
       "    }\n",
       "</style>\n",
       "<table border=\"1\" class=\"dataframe\">\n",
       "  <thead>\n",
       "    <tr style=\"text-align: right;\">\n",
       "      <th></th>\n",
       "      <th>0</th>\n",
       "    </tr>\n",
       "  </thead>\n",
       "  <tbody>\n",
       "    <tr>\n",
       "      <th>0</th>\n",
       "      <td>1</td>\n",
       "    </tr>\n",
       "    <tr>\n",
       "      <th>1</th>\n",
       "      <td>0</td>\n",
       "    </tr>\n",
       "    <tr>\n",
       "      <th>2</th>\n",
       "      <td>0</td>\n",
       "    </tr>\n",
       "    <tr>\n",
       "      <th>3</th>\n",
       "      <td>0</td>\n",
       "    </tr>\n",
       "    <tr>\n",
       "      <th>4</th>\n",
       "      <td>1</td>\n",
       "    </tr>\n",
       "    <tr>\n",
       "      <th>...</th>\n",
       "      <td>...</td>\n",
       "    </tr>\n",
       "    <tr>\n",
       "      <th>94765</th>\n",
       "      <td>0</td>\n",
       "    </tr>\n",
       "    <tr>\n",
       "      <th>94766</th>\n",
       "      <td>1</td>\n",
       "    </tr>\n",
       "    <tr>\n",
       "      <th>94767</th>\n",
       "      <td>1</td>\n",
       "    </tr>\n",
       "    <tr>\n",
       "      <th>94768</th>\n",
       "      <td>1</td>\n",
       "    </tr>\n",
       "    <tr>\n",
       "      <th>94769</th>\n",
       "      <td>0</td>\n",
       "    </tr>\n",
       "  </tbody>\n",
       "</table>\n",
       "<p>94770 rows × 1 columns</p>\n",
       "</div>"
      ],
      "text/plain": [
       "       0\n",
       "0      1\n",
       "1      0\n",
       "2      0\n",
       "3      0\n",
       "4      1\n",
       "...   ..\n",
       "94765  0\n",
       "94766  1\n",
       "94767  1\n",
       "94768  1\n",
       "94769  0\n",
       "\n",
       "[94770 rows x 1 columns]"
      ]
     },
     "execution_count": 25,
     "metadata": {},
     "output_type": "execute_result"
    }
   ],
   "source": [
    "df_train_labels"
   ]
  },
  {
   "cell_type": "code",
   "execution_count": 23,
   "id": "3b263f32",
   "metadata": {},
   "outputs": [],
   "source": [
    "df_test_images = pd.DataFrame(test_images)\n",
    "df_test_labels = pd.DataFrame(test_labels)"
   ]
  },
  {
   "cell_type": "code",
   "execution_count": 27,
   "id": "f49ba11d",
   "metadata": {},
   "outputs": [
    {
     "data": {
      "text/html": [
       "<div>\n",
       "<style scoped>\n",
       "    .dataframe tbody tr th:only-of-type {\n",
       "        vertical-align: middle;\n",
       "    }\n",
       "\n",
       "    .dataframe tbody tr th {\n",
       "        vertical-align: top;\n",
       "    }\n",
       "\n",
       "    .dataframe thead th {\n",
       "        text-align: right;\n",
       "    }\n",
       "</style>\n",
       "<table border=\"1\" class=\"dataframe\">\n",
       "  <thead>\n",
       "    <tr style=\"text-align: right;\">\n",
       "      <th></th>\n",
       "      <th>0</th>\n",
       "    </tr>\n",
       "  </thead>\n",
       "  <tbody>\n",
       "    <tr>\n",
       "      <th>0</th>\n",
       "      <td>1</td>\n",
       "    </tr>\n",
       "    <tr>\n",
       "      <th>1</th>\n",
       "      <td>1</td>\n",
       "    </tr>\n",
       "    <tr>\n",
       "      <th>2</th>\n",
       "      <td>0</td>\n",
       "    </tr>\n",
       "    <tr>\n",
       "      <th>3</th>\n",
       "      <td>0</td>\n",
       "    </tr>\n",
       "    <tr>\n",
       "      <th>4</th>\n",
       "      <td>0</td>\n",
       "    </tr>\n",
       "    <tr>\n",
       "      <th>...</th>\n",
       "      <td>...</td>\n",
       "    </tr>\n",
       "    <tr>\n",
       "      <th>19995</th>\n",
       "      <td>1</td>\n",
       "    </tr>\n",
       "    <tr>\n",
       "      <th>19996</th>\n",
       "      <td>0</td>\n",
       "    </tr>\n",
       "    <tr>\n",
       "      <th>19997</th>\n",
       "      <td>0</td>\n",
       "    </tr>\n",
       "    <tr>\n",
       "      <th>19998</th>\n",
       "      <td>0</td>\n",
       "    </tr>\n",
       "    <tr>\n",
       "      <th>19999</th>\n",
       "      <td>1</td>\n",
       "    </tr>\n",
       "  </tbody>\n",
       "</table>\n",
       "<p>20000 rows × 1 columns</p>\n",
       "</div>"
      ],
      "text/plain": [
       "       0\n",
       "0      1\n",
       "1      1\n",
       "2      0\n",
       "3      0\n",
       "4      0\n",
       "...   ..\n",
       "19995  1\n",
       "19996  0\n",
       "19997  0\n",
       "19998  0\n",
       "19999  1\n",
       "\n",
       "[20000 rows x 1 columns]"
      ]
     },
     "execution_count": 27,
     "metadata": {},
     "output_type": "execute_result"
    }
   ],
   "source": [
    "df_test_labels"
   ]
  },
  {
   "cell_type": "code",
   "execution_count": 18,
   "id": "498d1e30",
   "metadata": {},
   "outputs": [
    {
     "ename": "ModuleNotFoundError",
     "evalue": "No module named 'tensorflow'",
     "output_type": "error",
     "traceback": [
      "\u001b[1;31m---------------------------------------------------------------------------\u001b[0m",
      "\u001b[1;31mModuleNotFoundError\u001b[0m                       Traceback (most recent call last)",
      "Cell \u001b[1;32mIn[18], line 1\u001b[0m\n\u001b[1;32m----> 1\u001b[0m \u001b[38;5;28;01mimport\u001b[39;00m \u001b[38;5;21;01mtensorflow\u001b[39;00m \u001b[38;5;28;01mas\u001b[39;00m \u001b[38;5;21;01mtf\u001b[39;00m\n\u001b[0;32m      2\u001b[0m \u001b[38;5;28;01mfrom\u001b[39;00m \u001b[38;5;21;01mtensorflow\u001b[39;00m\u001b[38;5;21;01m.\u001b[39;00m\u001b[38;5;21;01mkeras\u001b[39;00m \u001b[38;5;28;01mimport\u001b[39;00m layers, models\n",
      "\u001b[1;31mModuleNotFoundError\u001b[0m: No module named 'tensorflow'"
     ]
    }
   ],
   "source": [
    "# import tensorflow as tf\n",
    "# from tensorflow.keras import layers, models"
   ]
  },
  {
   "cell_type": "code",
   "execution_count": null,
   "id": "5ef01a42",
   "metadata": {},
   "outputs": [],
   "source": [
    "# model = models.Sequential([\n",
    "#     layers.Dense(128, activation='relu'),\n",
    "#     layers.Dropout(0.5),\n",
    "#     layers.Dense(1, activation='sigmoid')  # Binary classification, so using sigmoid activation\n",
    "# ])\n",
    "\n",
    "# # Compile the model\n",
    "# model.compile(optimizer='adam', loss='binary_crossentropy', metrics=['accuracy'])\n",
    "\n",
    "# # Train the model\n",
    "# model.fit(train_images, train_labels, epochs=10, batch_size=32, validation_split=0.2)"
   ]
  },
  {
   "cell_type": "code",
   "execution_count": null,
   "id": "88942b35",
   "metadata": {},
   "outputs": [],
   "source": [
    "# test_loss, test_acc = model.evaluate(test_images, test_labels)\n",
    "# print(f'Test Accuracy: {test_acc}')\n",
    "\n",
    "# # Make predictions\n",
    "# predictions = model.predict(test_images)"
   ]
  },
  {
   "cell_type": "code",
   "execution_count": 33,
   "id": "6418558b",
   "metadata": {},
   "outputs": [],
   "source": [
    "X = sc.fit_transform(train_images)\n",
    "x_test = sc.fit_transform(test_images)"
   ]
  },
  {
   "cell_type": "code",
   "execution_count": 19,
   "id": "2410d3f8",
   "metadata": {},
   "outputs": [
    {
     "data": {
      "text/plain": [
       "array([226, 221, 228, ...,   7,   5,  16], dtype=uint8)"
      ]
     },
     "execution_count": 19,
     "metadata": {},
     "output_type": "execute_result"
    }
   ],
   "source": [
    "train_images[0]"
   ]
  },
  {
   "cell_type": "code",
   "execution_count": 30,
   "id": "2bea6445",
   "metadata": {},
   "outputs": [
    {
     "data": {
      "text/html": [
       "<style>#sk-container-id-3 {color: black;}#sk-container-id-3 pre{padding: 0;}#sk-container-id-3 div.sk-toggleable {background-color: white;}#sk-container-id-3 label.sk-toggleable__label {cursor: pointer;display: block;width: 100%;margin-bottom: 0;padding: 0.3em;box-sizing: border-box;text-align: center;}#sk-container-id-3 label.sk-toggleable__label-arrow:before {content: \"▸\";float: left;margin-right: 0.25em;color: #696969;}#sk-container-id-3 label.sk-toggleable__label-arrow:hover:before {color: black;}#sk-container-id-3 div.sk-estimator:hover label.sk-toggleable__label-arrow:before {color: black;}#sk-container-id-3 div.sk-toggleable__content {max-height: 0;max-width: 0;overflow: hidden;text-align: left;background-color: #f0f8ff;}#sk-container-id-3 div.sk-toggleable__content pre {margin: 0.2em;color: black;border-radius: 0.25em;background-color: #f0f8ff;}#sk-container-id-3 input.sk-toggleable__control:checked~div.sk-toggleable__content {max-height: 200px;max-width: 100%;overflow: auto;}#sk-container-id-3 input.sk-toggleable__control:checked~label.sk-toggleable__label-arrow:before {content: \"▾\";}#sk-container-id-3 div.sk-estimator input.sk-toggleable__control:checked~label.sk-toggleable__label {background-color: #d4ebff;}#sk-container-id-3 div.sk-label input.sk-toggleable__control:checked~label.sk-toggleable__label {background-color: #d4ebff;}#sk-container-id-3 input.sk-hidden--visually {border: 0;clip: rect(1px 1px 1px 1px);clip: rect(1px, 1px, 1px, 1px);height: 1px;margin: -1px;overflow: hidden;padding: 0;position: absolute;width: 1px;}#sk-container-id-3 div.sk-estimator {font-family: monospace;background-color: #f0f8ff;border: 1px dotted black;border-radius: 0.25em;box-sizing: border-box;margin-bottom: 0.5em;}#sk-container-id-3 div.sk-estimator:hover {background-color: #d4ebff;}#sk-container-id-3 div.sk-parallel-item::after {content: \"\";width: 100%;border-bottom: 1px solid gray;flex-grow: 1;}#sk-container-id-3 div.sk-label:hover label.sk-toggleable__label {background-color: #d4ebff;}#sk-container-id-3 div.sk-serial::before {content: \"\";position: absolute;border-left: 1px solid gray;box-sizing: border-box;top: 0;bottom: 0;left: 50%;z-index: 0;}#sk-container-id-3 div.sk-serial {display: flex;flex-direction: column;align-items: center;background-color: white;padding-right: 0.2em;padding-left: 0.2em;position: relative;}#sk-container-id-3 div.sk-item {position: relative;z-index: 1;}#sk-container-id-3 div.sk-parallel {display: flex;align-items: stretch;justify-content: center;background-color: white;position: relative;}#sk-container-id-3 div.sk-item::before, #sk-container-id-3 div.sk-parallel-item::before {content: \"\";position: absolute;border-left: 1px solid gray;box-sizing: border-box;top: 0;bottom: 0;left: 50%;z-index: -1;}#sk-container-id-3 div.sk-parallel-item {display: flex;flex-direction: column;z-index: 1;position: relative;background-color: white;}#sk-container-id-3 div.sk-parallel-item:first-child::after {align-self: flex-end;width: 50%;}#sk-container-id-3 div.sk-parallel-item:last-child::after {align-self: flex-start;width: 50%;}#sk-container-id-3 div.sk-parallel-item:only-child::after {width: 0;}#sk-container-id-3 div.sk-dashed-wrapped {border: 1px dashed gray;margin: 0 0.4em 0.5em 0.4em;box-sizing: border-box;padding-bottom: 0.4em;background-color: white;}#sk-container-id-3 div.sk-label label {font-family: monospace;font-weight: bold;display: inline-block;line-height: 1.2em;}#sk-container-id-3 div.sk-label-container {text-align: center;}#sk-container-id-3 div.sk-container {/* jupyter's `normalize.less` sets `[hidden] { display: none; }` but bootstrap.min.css set `[hidden] { display: none !important; }` so we also need the `!important` here to be able to override the default hidden behavior on the sphinx rendered scikit-learn.org. See: https://github.com/scikit-learn/scikit-learn/issues/21755 */display: inline-block !important;position: relative;}#sk-container-id-3 div.sk-text-repr-fallback {display: none;}</style><div id=\"sk-container-id-3\" class=\"sk-top-container\"><div class=\"sk-text-repr-fallback\"><pre>MLPClassifier(hidden_layer_sizes=(10, 5), max_iter=100000, random_state=1)</pre><b>In a Jupyter environment, please rerun this cell to show the HTML representation or trust the notebook. <br />On GitHub, the HTML representation is unable to render, please try loading this page with nbviewer.org.</b></div><div class=\"sk-container\" hidden><div class=\"sk-item\"><div class=\"sk-estimator sk-toggleable\"><input class=\"sk-toggleable__control sk-hidden--visually\" id=\"sk-estimator-id-3\" type=\"checkbox\" checked><label for=\"sk-estimator-id-3\" class=\"sk-toggleable__label sk-toggleable__label-arrow\">MLPClassifier</label><div class=\"sk-toggleable__content\"><pre>MLPClassifier(hidden_layer_sizes=(10, 5), max_iter=100000, random_state=1)</pre></div></div></div></div></div>"
      ],
      "text/plain": [
       "MLPClassifier(hidden_layer_sizes=(10, 5), max_iter=100000, random_state=1)"
      ]
     },
     "execution_count": 30,
     "metadata": {},
     "output_type": "execute_result"
    }
   ],
   "source": [
    "from sklearn.neural_network import MLPClassifier\n",
    "mlp_clf = MLPClassifier(random_state=1, activation = 'relu',max_iter=100000,hidden_layer_sizes=(10, 5))\n",
    "mlp_clf.fit(train_images,train_labels)"
   ]
  },
  {
   "cell_type": "code",
   "execution_count": 32,
   "id": "a81055b7",
   "metadata": {},
   "outputs": [
    {
     "name": "stdout",
     "output_type": "stream",
     "text": [
      "[0 0 0 ... 0 0 0]\n",
      "0.5\n",
      "[[10000     0]\n",
      " [10000     0]]\n"
     ]
    }
   ],
   "source": [
    "yp=mlp_clf.predict(test_images)\n",
    "print(mlp_clf.predict(test_images))\n",
    "print(mlp_clf.score(test_images, test_labels))\n",
    "from sklearn.metrics import confusion_matrix\n",
    "cm=confusion_matrix(test_labels,yp)\n",
    "print(cm)"
   ]
  },
  {
   "cell_type": "code",
   "execution_count": 34,
   "id": "16a2fde0",
   "metadata": {},
   "outputs": [
    {
     "data": {
      "text/plain": [
       "array([[ 1.6489501 ,  1.48812569,  1.43676371, ..., -1.7280255 ,\n",
       "        -1.76327402, -1.23142695],\n",
       "       [-0.49889129, -0.06091139,  0.43514475, ..., -0.84480404,\n",
       "        -0.19988669,  0.65176525],\n",
       "       [ 1.30298907,  1.28732459,  1.57278604, ..., -0.0597183 ,\n",
       "        -0.25031854, -0.19870864],\n",
       "       ...,\n",
       "       [-0.31149574, -0.1039402 ,  0.43514475, ...,  0.75807935,\n",
       "        -0.30075039, -0.19870864],\n",
       "       [ 0.45250154,  0.16857558, -0.24496689, ..., -0.07607425,\n",
       "        -0.23350792, -0.38095305],\n",
       "       [-0.21059044, -0.4625136 , -1.22185451, ...,  0.30011267,\n",
       "         0.13632564,  0.05947093]])"
      ]
     },
     "execution_count": 34,
     "metadata": {},
     "output_type": "execute_result"
    }
   ],
   "source": [
    "X"
   ]
  },
  {
   "cell_type": "code",
   "execution_count": 35,
   "id": "cfd430f9",
   "metadata": {},
   "outputs": [
    {
     "data": {
      "text/plain": [
       "array([[ 1.61508123,  1.48177358,  1.43684556, ...,  0.19244994,\n",
       "         0.34648128,  0.71673142],\n",
       "       [-0.1330368 , -0.54226386, -0.57658984, ...,  0.78198093,\n",
       "         0.61571515,  0.54933392],\n",
       "       [ 0.56907618,  0.14191781, -0.23072364, ...,  2.32131186,\n",
       "         2.13015568,  1.67546255],\n",
       "       ...,\n",
       "       [ 0.31115713,  0.52677   ,  1.17744591, ..., -0.11869142,\n",
       "         0.54840668,  1.35588551],\n",
       "       [-1.4369609 , -1.16943039, -1.3918459 , ...,  0.27432924,\n",
       "         0.61571515, -0.47026904],\n",
       "       [ 0.95595476,  1.02565246,  1.20215064, ...,  1.06037057,\n",
       "         0.75033209,  0.62542369]])"
      ]
     },
     "execution_count": 35,
     "metadata": {},
     "output_type": "execute_result"
    }
   ],
   "source": [
    "x_test"
   ]
  },
  {
   "cell_type": "code",
   "execution_count": 36,
   "id": "6df37163",
   "metadata": {},
   "outputs": [
    {
     "data": {
      "text/html": [
       "<style>#sk-container-id-4 {color: black;}#sk-container-id-4 pre{padding: 0;}#sk-container-id-4 div.sk-toggleable {background-color: white;}#sk-container-id-4 label.sk-toggleable__label {cursor: pointer;display: block;width: 100%;margin-bottom: 0;padding: 0.3em;box-sizing: border-box;text-align: center;}#sk-container-id-4 label.sk-toggleable__label-arrow:before {content: \"▸\";float: left;margin-right: 0.25em;color: #696969;}#sk-container-id-4 label.sk-toggleable__label-arrow:hover:before {color: black;}#sk-container-id-4 div.sk-estimator:hover label.sk-toggleable__label-arrow:before {color: black;}#sk-container-id-4 div.sk-toggleable__content {max-height: 0;max-width: 0;overflow: hidden;text-align: left;background-color: #f0f8ff;}#sk-container-id-4 div.sk-toggleable__content pre {margin: 0.2em;color: black;border-radius: 0.25em;background-color: #f0f8ff;}#sk-container-id-4 input.sk-toggleable__control:checked~div.sk-toggleable__content {max-height: 200px;max-width: 100%;overflow: auto;}#sk-container-id-4 input.sk-toggleable__control:checked~label.sk-toggleable__label-arrow:before {content: \"▾\";}#sk-container-id-4 div.sk-estimator input.sk-toggleable__control:checked~label.sk-toggleable__label {background-color: #d4ebff;}#sk-container-id-4 div.sk-label input.sk-toggleable__control:checked~label.sk-toggleable__label {background-color: #d4ebff;}#sk-container-id-4 input.sk-hidden--visually {border: 0;clip: rect(1px 1px 1px 1px);clip: rect(1px, 1px, 1px, 1px);height: 1px;margin: -1px;overflow: hidden;padding: 0;position: absolute;width: 1px;}#sk-container-id-4 div.sk-estimator {font-family: monospace;background-color: #f0f8ff;border: 1px dotted black;border-radius: 0.25em;box-sizing: border-box;margin-bottom: 0.5em;}#sk-container-id-4 div.sk-estimator:hover {background-color: #d4ebff;}#sk-container-id-4 div.sk-parallel-item::after {content: \"\";width: 100%;border-bottom: 1px solid gray;flex-grow: 1;}#sk-container-id-4 div.sk-label:hover label.sk-toggleable__label {background-color: #d4ebff;}#sk-container-id-4 div.sk-serial::before {content: \"\";position: absolute;border-left: 1px solid gray;box-sizing: border-box;top: 0;bottom: 0;left: 50%;z-index: 0;}#sk-container-id-4 div.sk-serial {display: flex;flex-direction: column;align-items: center;background-color: white;padding-right: 0.2em;padding-left: 0.2em;position: relative;}#sk-container-id-4 div.sk-item {position: relative;z-index: 1;}#sk-container-id-4 div.sk-parallel {display: flex;align-items: stretch;justify-content: center;background-color: white;position: relative;}#sk-container-id-4 div.sk-item::before, #sk-container-id-4 div.sk-parallel-item::before {content: \"\";position: absolute;border-left: 1px solid gray;box-sizing: border-box;top: 0;bottom: 0;left: 50%;z-index: -1;}#sk-container-id-4 div.sk-parallel-item {display: flex;flex-direction: column;z-index: 1;position: relative;background-color: white;}#sk-container-id-4 div.sk-parallel-item:first-child::after {align-self: flex-end;width: 50%;}#sk-container-id-4 div.sk-parallel-item:last-child::after {align-self: flex-start;width: 50%;}#sk-container-id-4 div.sk-parallel-item:only-child::after {width: 0;}#sk-container-id-4 div.sk-dashed-wrapped {border: 1px dashed gray;margin: 0 0.4em 0.5em 0.4em;box-sizing: border-box;padding-bottom: 0.4em;background-color: white;}#sk-container-id-4 div.sk-label label {font-family: monospace;font-weight: bold;display: inline-block;line-height: 1.2em;}#sk-container-id-4 div.sk-label-container {text-align: center;}#sk-container-id-4 div.sk-container {/* jupyter's `normalize.less` sets `[hidden] { display: none; }` but bootstrap.min.css set `[hidden] { display: none !important; }` so we also need the `!important` here to be able to override the default hidden behavior on the sphinx rendered scikit-learn.org. See: https://github.com/scikit-learn/scikit-learn/issues/21755 */display: inline-block !important;position: relative;}#sk-container-id-4 div.sk-text-repr-fallback {display: none;}</style><div id=\"sk-container-id-4\" class=\"sk-top-container\"><div class=\"sk-text-repr-fallback\"><pre>MLPClassifier(hidden_layer_sizes=(10, 5), max_iter=100000, random_state=1)</pre><b>In a Jupyter environment, please rerun this cell to show the HTML representation or trust the notebook. <br />On GitHub, the HTML representation is unable to render, please try loading this page with nbviewer.org.</b></div><div class=\"sk-container\" hidden><div class=\"sk-item\"><div class=\"sk-estimator sk-toggleable\"><input class=\"sk-toggleable__control sk-hidden--visually\" id=\"sk-estimator-id-4\" type=\"checkbox\" checked><label for=\"sk-estimator-id-4\" class=\"sk-toggleable__label sk-toggleable__label-arrow\">MLPClassifier</label><div class=\"sk-toggleable__content\"><pre>MLPClassifier(hidden_layer_sizes=(10, 5), max_iter=100000, random_state=1)</pre></div></div></div></div></div>"
      ],
      "text/plain": [
       "MLPClassifier(hidden_layer_sizes=(10, 5), max_iter=100000, random_state=1)"
      ]
     },
     "execution_count": 36,
     "metadata": {},
     "output_type": "execute_result"
    }
   ],
   "source": [
    "mlp_clf2 = MLPClassifier(random_state=1, activation = 'relu',max_iter=100000,hidden_layer_sizes=(10, 5))\n",
    "mlp_clf2.fit(X,train_labels)"
   ]
  },
  {
   "cell_type": "code",
   "execution_count": 40,
   "id": "b36ce729",
   "metadata": {},
   "outputs": [
    {
     "name": "stdout",
     "output_type": "stream",
     "text": [
      "[1 1 1 ... 0 0 1]\n",
      "0.79045\n",
      "[[7964 2036]\n",
      " [2155 7845]]\n"
     ]
    }
   ],
   "source": [
    "yp2=mlp_clf2.predict(x_test)\n",
    "print(yp2)\n",
    "print(mlp_clf2.score(x_test, test_labels))\n",
    "from sklearn.metrics import confusion_matrix\n",
    "cm2=confusion_matrix(test_labels,yp2)\n",
    "print(cm2)"
   ]
  },
  {
   "cell_type": "code",
   "execution_count": 38,
   "id": "0edb3f53",
   "metadata": {},
   "outputs": [],
   "source": [
    "with open('scaled_train_data.pkl', 'wb') as train_data_file:\n",
    "    pickle.dump(X, train_data_file)\n",
    "\n",
    "with open('scaled_test_data.pkl', 'wb') as test_data_file:\n",
    "    pickle.dump(x_test, test_data_file)"
   ]
  },
  {
   "cell_type": "code",
   "execution_count": 41,
   "id": "fb969e58",
   "metadata": {},
   "outputs": [],
   "source": [
    "normalized_train_images = train_images / 255.0\n",
    "normalized_test_images = test_images / 255.0"
   ]
  },
  {
   "cell_type": "code",
   "execution_count": 43,
   "id": "1dd93081",
   "metadata": {},
   "outputs": [
    {
     "data": {
      "text/plain": [
       "array([[0.88627451, 0.86666667, 0.89411765, ..., 0.02745098, 0.01960784,\n",
       "        0.0627451 ],\n",
       "       [0.30196078, 0.44313725, 0.57647059, ..., 0.23921569, 0.38431373,\n",
       "        0.54901961],\n",
       "       [0.79215686, 0.81176471, 0.9372549 , ..., 0.42745098, 0.37254902,\n",
       "        0.32941176],\n",
       "       ...,\n",
       "       [0.35294118, 0.43137255, 0.57647059, ..., 0.62352941, 0.36078431,\n",
       "        0.32941176],\n",
       "       [0.56078431, 0.50588235, 0.36078431, ..., 0.42352941, 0.37647059,\n",
       "        0.28235294],\n",
       "       [0.38039216, 0.33333333, 0.05098039, ..., 0.51372549, 0.4627451 ,\n",
       "        0.39607843]])"
      ]
     },
     "execution_count": 43,
     "metadata": {},
     "output_type": "execute_result"
    }
   ],
   "source": [
    "normalized_train_images"
   ]
  },
  {
   "cell_type": "code",
   "execution_count": 44,
   "id": "9b428abf",
   "metadata": {},
   "outputs": [
    {
     "data": {
      "text/plain": [
       "array([[0.88235294, 0.87058824, 0.89803922, ..., 0.49019608, 0.51372549,\n",
       "        0.56862745],\n",
       "       [0.40392157, 0.31372549, 0.25882353, ..., 0.63137255, 0.57647059,\n",
       "        0.5254902 ],\n",
       "       [0.59607843, 0.50196078, 0.36862745, ..., 1.        , 0.92941176,\n",
       "        0.81568627],\n",
       "       ...,\n",
       "       [0.5254902 , 0.60784314, 0.81568627, ..., 0.41568627, 0.56078431,\n",
       "        0.73333333],\n",
       "       [0.04705882, 0.14117647, 0.        , ..., 0.50980392, 0.57647059,\n",
       "        0.2627451 ],\n",
       "       [0.70196078, 0.74509804, 0.82352941, ..., 0.69803922, 0.60784314,\n",
       "        0.54509804]])"
      ]
     },
     "execution_count": 44,
     "metadata": {},
     "output_type": "execute_result"
    }
   ],
   "source": [
    "normalized_test_images"
   ]
  },
  {
   "cell_type": "code",
   "execution_count": 47,
   "id": "b21122a3",
   "metadata": {},
   "outputs": [
    {
     "data": {
      "text/html": [
       "<style>#sk-container-id-6 {color: black;}#sk-container-id-6 pre{padding: 0;}#sk-container-id-6 div.sk-toggleable {background-color: white;}#sk-container-id-6 label.sk-toggleable__label {cursor: pointer;display: block;width: 100%;margin-bottom: 0;padding: 0.3em;box-sizing: border-box;text-align: center;}#sk-container-id-6 label.sk-toggleable__label-arrow:before {content: \"▸\";float: left;margin-right: 0.25em;color: #696969;}#sk-container-id-6 label.sk-toggleable__label-arrow:hover:before {color: black;}#sk-container-id-6 div.sk-estimator:hover label.sk-toggleable__label-arrow:before {color: black;}#sk-container-id-6 div.sk-toggleable__content {max-height: 0;max-width: 0;overflow: hidden;text-align: left;background-color: #f0f8ff;}#sk-container-id-6 div.sk-toggleable__content pre {margin: 0.2em;color: black;border-radius: 0.25em;background-color: #f0f8ff;}#sk-container-id-6 input.sk-toggleable__control:checked~div.sk-toggleable__content {max-height: 200px;max-width: 100%;overflow: auto;}#sk-container-id-6 input.sk-toggleable__control:checked~label.sk-toggleable__label-arrow:before {content: \"▾\";}#sk-container-id-6 div.sk-estimator input.sk-toggleable__control:checked~label.sk-toggleable__label {background-color: #d4ebff;}#sk-container-id-6 div.sk-label input.sk-toggleable__control:checked~label.sk-toggleable__label {background-color: #d4ebff;}#sk-container-id-6 input.sk-hidden--visually {border: 0;clip: rect(1px 1px 1px 1px);clip: rect(1px, 1px, 1px, 1px);height: 1px;margin: -1px;overflow: hidden;padding: 0;position: absolute;width: 1px;}#sk-container-id-6 div.sk-estimator {font-family: monospace;background-color: #f0f8ff;border: 1px dotted black;border-radius: 0.25em;box-sizing: border-box;margin-bottom: 0.5em;}#sk-container-id-6 div.sk-estimator:hover {background-color: #d4ebff;}#sk-container-id-6 div.sk-parallel-item::after {content: \"\";width: 100%;border-bottom: 1px solid gray;flex-grow: 1;}#sk-container-id-6 div.sk-label:hover label.sk-toggleable__label {background-color: #d4ebff;}#sk-container-id-6 div.sk-serial::before {content: \"\";position: absolute;border-left: 1px solid gray;box-sizing: border-box;top: 0;bottom: 0;left: 50%;z-index: 0;}#sk-container-id-6 div.sk-serial {display: flex;flex-direction: column;align-items: center;background-color: white;padding-right: 0.2em;padding-left: 0.2em;position: relative;}#sk-container-id-6 div.sk-item {position: relative;z-index: 1;}#sk-container-id-6 div.sk-parallel {display: flex;align-items: stretch;justify-content: center;background-color: white;position: relative;}#sk-container-id-6 div.sk-item::before, #sk-container-id-6 div.sk-parallel-item::before {content: \"\";position: absolute;border-left: 1px solid gray;box-sizing: border-box;top: 0;bottom: 0;left: 50%;z-index: -1;}#sk-container-id-6 div.sk-parallel-item {display: flex;flex-direction: column;z-index: 1;position: relative;background-color: white;}#sk-container-id-6 div.sk-parallel-item:first-child::after {align-self: flex-end;width: 50%;}#sk-container-id-6 div.sk-parallel-item:last-child::after {align-self: flex-start;width: 50%;}#sk-container-id-6 div.sk-parallel-item:only-child::after {width: 0;}#sk-container-id-6 div.sk-dashed-wrapped {border: 1px dashed gray;margin: 0 0.4em 0.5em 0.4em;box-sizing: border-box;padding-bottom: 0.4em;background-color: white;}#sk-container-id-6 div.sk-label label {font-family: monospace;font-weight: bold;display: inline-block;line-height: 1.2em;}#sk-container-id-6 div.sk-label-container {text-align: center;}#sk-container-id-6 div.sk-container {/* jupyter's `normalize.less` sets `[hidden] { display: none; }` but bootstrap.min.css set `[hidden] { display: none !important; }` so we also need the `!important` here to be able to override the default hidden behavior on the sphinx rendered scikit-learn.org. See: https://github.com/scikit-learn/scikit-learn/issues/21755 */display: inline-block !important;position: relative;}#sk-container-id-6 div.sk-text-repr-fallback {display: none;}</style><div id=\"sk-container-id-6\" class=\"sk-top-container\"><div class=\"sk-text-repr-fallback\"><pre>MLPClassifier(hidden_layer_sizes=(10, 5), max_iter=100000, random_state=1)</pre><b>In a Jupyter environment, please rerun this cell to show the HTML representation or trust the notebook. <br />On GitHub, the HTML representation is unable to render, please try loading this page with nbviewer.org.</b></div><div class=\"sk-container\" hidden><div class=\"sk-item\"><div class=\"sk-estimator sk-toggleable\"><input class=\"sk-toggleable__control sk-hidden--visually\" id=\"sk-estimator-id-6\" type=\"checkbox\" checked><label for=\"sk-estimator-id-6\" class=\"sk-toggleable__label sk-toggleable__label-arrow\">MLPClassifier</label><div class=\"sk-toggleable__content\"><pre>MLPClassifier(hidden_layer_sizes=(10, 5), max_iter=100000, random_state=1)</pre></div></div></div></div></div>"
      ],
      "text/plain": [
       "MLPClassifier(hidden_layer_sizes=(10, 5), max_iter=100000, random_state=1)"
      ]
     },
     "execution_count": 47,
     "metadata": {},
     "output_type": "execute_result"
    }
   ],
   "source": [
    "mlp_clf3 = MLPClassifier(random_state=1, activation = 'relu',max_iter=10000,hidden_layer_sizes=(10, 5))\n",
    "mlp_clf3.fit(normalized_train_images,train_labels)"
   ]
  },
  {
   "cell_type": "code",
   "execution_count": 48,
   "id": "3a6cb0d3",
   "metadata": {},
   "outputs": [
    {
     "name": "stdout",
     "output_type": "stream",
     "text": [
      "[1 1 1 ... 0 0 0]\n",
      "0.74745\n",
      "[[7837 2163]\n",
      " [2888 7112]]\n"
     ]
    }
   ],
   "source": [
    "yp3=mlp_clf3.predict(normalized_test_images)\n",
    "print(yp3)\n",
    "print(mlp_clf3.score(normalized_test_images, test_labels))\n",
    "from sklearn.metrics import confusion_matrix\n",
    "cm3=confusion_matrix(test_labels,yp3)\n",
    "print(cm3)"
   ]
  },
  {
   "cell_type": "code",
   "execution_count": null,
   "id": "f0bf19f0",
   "metadata": {},
   "outputs": [],
   "source": []
  }
 ],
 "metadata": {
  "kernelspec": {
   "display_name": "Python (GPU)",
   "language": "python",
   "name": "gpu_env"
  },
  "language_info": {
   "codemirror_mode": {
    "name": "ipython",
    "version": 3
   },
   "file_extension": ".py",
   "mimetype": "text/x-python",
   "name": "python",
   "nbconvert_exporter": "python",
   "pygments_lexer": "ipython3",
   "version": "3.11.4"
  }
 },
 "nbformat": 4,
 "nbformat_minor": 5
}
